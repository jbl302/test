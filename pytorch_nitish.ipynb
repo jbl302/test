{
  "nbformat": 4,
  "nbformat_minor": 0,
  "metadata": {
    "colab": {
      "provenance": [],
      "authorship_tag": "ABX9TyMCoVNrTlNJ0N6CuJ6OOarO",
      "include_colab_link": true
    },
    "kernelspec": {
      "name": "python3",
      "display_name": "Python 3"
    },
    "language_info": {
      "name": "python"
    }
  },
  "cells": [
    {
      "cell_type": "markdown",
      "metadata": {
        "id": "view-in-github",
        "colab_type": "text"
      },
      "source": [
        "<a href=\"https://colab.research.google.com/github/jbl302/test/blob/main/pytorch_nitish.ipynb\" target=\"_parent\"><img src=\"https://colab.research.google.com/assets/colab-badge.svg\" alt=\"Open In Colab\"/></a>"
      ]
    },
    {
      "cell_type": "code",
      "execution_count": null,
      "metadata": {
        "colab": {
          "base_uri": "https://localhost:8080/"
        },
        "id": "p8ozgHUUNm2-",
        "outputId": "f9dcb97d-bb46-4a50-90c4-d78d32920b52"
      },
      "outputs": [
        {
          "output_type": "execute_result",
          "data": {
            "text/plain": [
              "tensor(3., requires_grad=True)"
            ]
          },
          "metadata": {},
          "execution_count": 1
        }
      ],
      "source": [
        "import torch\n",
        "\n",
        "x = torch.tensor(3.0,requires_grad=True)\n",
        "x"
      ]
    },
    {
      "cell_type": "code",
      "source": [
        "y = x**2\n"
      ],
      "metadata": {
        "id": "pdkbCfdqOD7B"
      },
      "execution_count": null,
      "outputs": []
    },
    {
      "cell_type": "code",
      "source": [
        "y"
      ],
      "metadata": {
        "colab": {
          "base_uri": "https://localhost:8080/"
        },
        "id": "bVhope_OOHhc",
        "outputId": "ae96a69a-4854-4a6c-bbb1-679e07cf11a1"
      },
      "execution_count": null,
      "outputs": [
        {
          "output_type": "execute_result",
          "data": {
            "text/plain": [
              "tensor(9., grad_fn=<PowBackward0>)"
            ]
          },
          "metadata": {},
          "execution_count": 3
        }
      ]
    },
    {
      "cell_type": "code",
      "source": [
        "y.backward()"
      ],
      "metadata": {
        "id": "UWNKnYR6OJrU"
      },
      "execution_count": null,
      "outputs": []
    },
    {
      "cell_type": "code",
      "source": [
        "x.grad"
      ],
      "metadata": {
        "colab": {
          "base_uri": "https://localhost:8080/"
        },
        "id": "hVUs9Q--OLOX",
        "outputId": "2db8a504-ffaf-4f18-8b8f-c9158aba5154"
      },
      "execution_count": null,
      "outputs": [
        {
          "output_type": "execute_result",
          "data": {
            "text/plain": [
              "tensor(6.)"
            ]
          },
          "metadata": {},
          "execution_count": 5
        }
      ]
    },
    {
      "cell_type": "code",
      "source": [
        "z = torch.sin(y)\n",
        "z"
      ],
      "metadata": {
        "colab": {
          "base_uri": "https://localhost:8080/"
        },
        "id": "Hc_K3y4SOvYp",
        "outputId": "fa50ae33-c6b1-4752-e00d-c5073b29939c"
      },
      "execution_count": null,
      "outputs": [
        {
          "output_type": "execute_result",
          "data": {
            "text/plain": [
              "tensor(0.4121, grad_fn=<SinBackward0>)"
            ]
          },
          "metadata": {},
          "execution_count": 6
        }
      ]
    },
    {
      "cell_type": "code",
      "source": [
        "# z.backward()"
      ],
      "metadata": {
        "id": "zQq67G_6Oz8M"
      },
      "execution_count": null,
      "outputs": []
    },
    {
      "cell_type": "code",
      "source": [
        "x.grad"
      ],
      "metadata": {
        "colab": {
          "base_uri": "https://localhost:8080/"
        },
        "id": "l3tw6OUJPhCO",
        "outputId": "23c265bc-beb2-46b9-a4ca-87621afdb765"
      },
      "execution_count": null,
      "outputs": [
        {
          "output_type": "execute_result",
          "data": {
            "text/plain": [
              "tensor(6.)"
            ]
          },
          "metadata": {},
          "execution_count": 9
        }
      ]
    },
    {
      "cell_type": "code",
      "source": [
        "a = torch.tensor(2.0,requires_grad=True)\n",
        "a"
      ],
      "metadata": {
        "colab": {
          "base_uri": "https://localhost:8080/"
        },
        "id": "lIYPsSehTeB3",
        "outputId": "a1a8832f-a6c4-4482-b69d-7fb6d77daca2"
      },
      "execution_count": null,
      "outputs": [
        {
          "output_type": "execute_result",
          "data": {
            "text/plain": [
              "tensor(2., requires_grad=True)"
            ]
          },
          "metadata": {},
          "execution_count": 10
        }
      ]
    },
    {
      "cell_type": "code",
      "source": [
        "\n",
        "y = x**2\n",
        "y"
      ],
      "metadata": {
        "colab": {
          "base_uri": "https://localhost:8080/"
        },
        "id": "_yXEBosKToQi",
        "outputId": "0a933e6b-ec05-4c06-ac7a-a49e73ece636"
      },
      "execution_count": null,
      "outputs": [
        {
          "output_type": "execute_result",
          "data": {
            "text/plain": [
              "tensor(9., grad_fn=<PowBackward0>)"
            ]
          },
          "metadata": {},
          "execution_count": 11
        }
      ]
    },
    {
      "cell_type": "code",
      "source": [
        "\n",
        "y.backward()"
      ],
      "metadata": {
        "id": "LgoWZVFpTsjk"
      },
      "execution_count": null,
      "outputs": []
    },
    {
      "cell_type": "code",
      "source": [
        "x.grad"
      ],
      "metadata": {
        "colab": {
          "base_uri": "https://localhost:8080/"
        },
        "id": "FsUrBRSHUIAn",
        "outputId": "db926ab4-1fff-4f2e-b50d-3361e95c2f62"
      },
      "execution_count": null,
      "outputs": [
        {
          "output_type": "execute_result",
          "data": {
            "text/plain": [
              "tensor(12.)"
            ]
          },
          "metadata": {},
          "execution_count": 13
        }
      ]
    },
    {
      "cell_type": "code",
      "source": [
        "x.grad.zero_()\n"
      ],
      "metadata": {
        "colab": {
          "base_uri": "https://localhost:8080/"
        },
        "id": "5g-7OVLyTvfr",
        "outputId": "31bcaba9-ad29-466c-abe6-6f7fc5abd767"
      },
      "execution_count": null,
      "outputs": [
        {
          "output_type": "execute_result",
          "data": {
            "text/plain": [
              "tensor(0.)"
            ]
          },
          "metadata": {},
          "execution_count": 14
        }
      ]
    },
    {
      "cell_type": "markdown",
      "source": [
        "Creating a simple neural network nn"
      ],
      "metadata": {
        "id": "VuOXqXt896uh"
      }
    },
    {
      "cell_type": "code",
      "source": [
        "import numpy as np\n",
        "import pandas as pd\n",
        "import torch\n",
        "from sklearn.model_selection import train_test_split\n",
        "from sklearn.preprocessing import StandardScaler\n",
        "from sklearn.preprocessing import LabelEncoder"
      ],
      "metadata": {
        "id": "wOonAHNa95x6"
      },
      "execution_count": null,
      "outputs": []
    },
    {
      "cell_type": "code",
      "source": [
        "df = pd.read_csv('https://raw.githubusercontent.com/gscdit/Breast-Cancer-Detection/refs/heads/master/data.csv')\n",
        "df.head()"
      ],
      "metadata": {
        "colab": {
          "base_uri": "https://localhost:8080/",
          "height": 273
        },
        "id": "MmEYKwB7-BRq",
        "outputId": "73f96c2c-892f-455b-b8e7-03ee69fbd89e"
      },
      "execution_count": null,
      "outputs": [
        {
          "output_type": "execute_result",
          "data": {
            "text/plain": [
              "         id diagnosis  radius_mean  texture_mean  perimeter_mean  area_mean  \\\n",
              "0    842302         M        17.99         10.38          122.80     1001.0   \n",
              "1    842517         M        20.57         17.77          132.90     1326.0   \n",
              "2  84300903         M        19.69         21.25          130.00     1203.0   \n",
              "3  84348301         M        11.42         20.38           77.58      386.1   \n",
              "4  84358402         M        20.29         14.34          135.10     1297.0   \n",
              "\n",
              "   smoothness_mean  compactness_mean  concavity_mean  concave points_mean  \\\n",
              "0          0.11840           0.27760          0.3001              0.14710   \n",
              "1          0.08474           0.07864          0.0869              0.07017   \n",
              "2          0.10960           0.15990          0.1974              0.12790   \n",
              "3          0.14250           0.28390          0.2414              0.10520   \n",
              "4          0.10030           0.13280          0.1980              0.10430   \n",
              "\n",
              "   ...  texture_worst  perimeter_worst  area_worst  smoothness_worst  \\\n",
              "0  ...          17.33           184.60      2019.0            0.1622   \n",
              "1  ...          23.41           158.80      1956.0            0.1238   \n",
              "2  ...          25.53           152.50      1709.0            0.1444   \n",
              "3  ...          26.50            98.87       567.7            0.2098   \n",
              "4  ...          16.67           152.20      1575.0            0.1374   \n",
              "\n",
              "   compactness_worst  concavity_worst  concave points_worst  symmetry_worst  \\\n",
              "0             0.6656           0.7119                0.2654          0.4601   \n",
              "1             0.1866           0.2416                0.1860          0.2750   \n",
              "2             0.4245           0.4504                0.2430          0.3613   \n",
              "3             0.8663           0.6869                0.2575          0.6638   \n",
              "4             0.2050           0.4000                0.1625          0.2364   \n",
              "\n",
              "   fractal_dimension_worst  Unnamed: 32  \n",
              "0                  0.11890          NaN  \n",
              "1                  0.08902          NaN  \n",
              "2                  0.08758          NaN  \n",
              "3                  0.17300          NaN  \n",
              "4                  0.07678          NaN  \n",
              "\n",
              "[5 rows x 33 columns]"
            ],
            "text/html": [
              "\n",
              "  <div id=\"df-5929f87d-ca78-4be7-8141-efca1917219b\" class=\"colab-df-container\">\n",
              "    <div>\n",
              "<style scoped>\n",
              "    .dataframe tbody tr th:only-of-type {\n",
              "        vertical-align: middle;\n",
              "    }\n",
              "\n",
              "    .dataframe tbody tr th {\n",
              "        vertical-align: top;\n",
              "    }\n",
              "\n",
              "    .dataframe thead th {\n",
              "        text-align: right;\n",
              "    }\n",
              "</style>\n",
              "<table border=\"1\" class=\"dataframe\">\n",
              "  <thead>\n",
              "    <tr style=\"text-align: right;\">\n",
              "      <th></th>\n",
              "      <th>id</th>\n",
              "      <th>diagnosis</th>\n",
              "      <th>radius_mean</th>\n",
              "      <th>texture_mean</th>\n",
              "      <th>perimeter_mean</th>\n",
              "      <th>area_mean</th>\n",
              "      <th>smoothness_mean</th>\n",
              "      <th>compactness_mean</th>\n",
              "      <th>concavity_mean</th>\n",
              "      <th>concave points_mean</th>\n",
              "      <th>...</th>\n",
              "      <th>texture_worst</th>\n",
              "      <th>perimeter_worst</th>\n",
              "      <th>area_worst</th>\n",
              "      <th>smoothness_worst</th>\n",
              "      <th>compactness_worst</th>\n",
              "      <th>concavity_worst</th>\n",
              "      <th>concave points_worst</th>\n",
              "      <th>symmetry_worst</th>\n",
              "      <th>fractal_dimension_worst</th>\n",
              "      <th>Unnamed: 32</th>\n",
              "    </tr>\n",
              "  </thead>\n",
              "  <tbody>\n",
              "    <tr>\n",
              "      <th>0</th>\n",
              "      <td>842302</td>\n",
              "      <td>M</td>\n",
              "      <td>17.99</td>\n",
              "      <td>10.38</td>\n",
              "      <td>122.80</td>\n",
              "      <td>1001.0</td>\n",
              "      <td>0.11840</td>\n",
              "      <td>0.27760</td>\n",
              "      <td>0.3001</td>\n",
              "      <td>0.14710</td>\n",
              "      <td>...</td>\n",
              "      <td>17.33</td>\n",
              "      <td>184.60</td>\n",
              "      <td>2019.0</td>\n",
              "      <td>0.1622</td>\n",
              "      <td>0.6656</td>\n",
              "      <td>0.7119</td>\n",
              "      <td>0.2654</td>\n",
              "      <td>0.4601</td>\n",
              "      <td>0.11890</td>\n",
              "      <td>NaN</td>\n",
              "    </tr>\n",
              "    <tr>\n",
              "      <th>1</th>\n",
              "      <td>842517</td>\n",
              "      <td>M</td>\n",
              "      <td>20.57</td>\n",
              "      <td>17.77</td>\n",
              "      <td>132.90</td>\n",
              "      <td>1326.0</td>\n",
              "      <td>0.08474</td>\n",
              "      <td>0.07864</td>\n",
              "      <td>0.0869</td>\n",
              "      <td>0.07017</td>\n",
              "      <td>...</td>\n",
              "      <td>23.41</td>\n",
              "      <td>158.80</td>\n",
              "      <td>1956.0</td>\n",
              "      <td>0.1238</td>\n",
              "      <td>0.1866</td>\n",
              "      <td>0.2416</td>\n",
              "      <td>0.1860</td>\n",
              "      <td>0.2750</td>\n",
              "      <td>0.08902</td>\n",
              "      <td>NaN</td>\n",
              "    </tr>\n",
              "    <tr>\n",
              "      <th>2</th>\n",
              "      <td>84300903</td>\n",
              "      <td>M</td>\n",
              "      <td>19.69</td>\n",
              "      <td>21.25</td>\n",
              "      <td>130.00</td>\n",
              "      <td>1203.0</td>\n",
              "      <td>0.10960</td>\n",
              "      <td>0.15990</td>\n",
              "      <td>0.1974</td>\n",
              "      <td>0.12790</td>\n",
              "      <td>...</td>\n",
              "      <td>25.53</td>\n",
              "      <td>152.50</td>\n",
              "      <td>1709.0</td>\n",
              "      <td>0.1444</td>\n",
              "      <td>0.4245</td>\n",
              "      <td>0.4504</td>\n",
              "      <td>0.2430</td>\n",
              "      <td>0.3613</td>\n",
              "      <td>0.08758</td>\n",
              "      <td>NaN</td>\n",
              "    </tr>\n",
              "    <tr>\n",
              "      <th>3</th>\n",
              "      <td>84348301</td>\n",
              "      <td>M</td>\n",
              "      <td>11.42</td>\n",
              "      <td>20.38</td>\n",
              "      <td>77.58</td>\n",
              "      <td>386.1</td>\n",
              "      <td>0.14250</td>\n",
              "      <td>0.28390</td>\n",
              "      <td>0.2414</td>\n",
              "      <td>0.10520</td>\n",
              "      <td>...</td>\n",
              "      <td>26.50</td>\n",
              "      <td>98.87</td>\n",
              "      <td>567.7</td>\n",
              "      <td>0.2098</td>\n",
              "      <td>0.8663</td>\n",
              "      <td>0.6869</td>\n",
              "      <td>0.2575</td>\n",
              "      <td>0.6638</td>\n",
              "      <td>0.17300</td>\n",
              "      <td>NaN</td>\n",
              "    </tr>\n",
              "    <tr>\n",
              "      <th>4</th>\n",
              "      <td>84358402</td>\n",
              "      <td>M</td>\n",
              "      <td>20.29</td>\n",
              "      <td>14.34</td>\n",
              "      <td>135.10</td>\n",
              "      <td>1297.0</td>\n",
              "      <td>0.10030</td>\n",
              "      <td>0.13280</td>\n",
              "      <td>0.1980</td>\n",
              "      <td>0.10430</td>\n",
              "      <td>...</td>\n",
              "      <td>16.67</td>\n",
              "      <td>152.20</td>\n",
              "      <td>1575.0</td>\n",
              "      <td>0.1374</td>\n",
              "      <td>0.2050</td>\n",
              "      <td>0.4000</td>\n",
              "      <td>0.1625</td>\n",
              "      <td>0.2364</td>\n",
              "      <td>0.07678</td>\n",
              "      <td>NaN</td>\n",
              "    </tr>\n",
              "  </tbody>\n",
              "</table>\n",
              "<p>5 rows × 33 columns</p>\n",
              "</div>\n",
              "    <div class=\"colab-df-buttons\">\n",
              "\n",
              "  <div class=\"colab-df-container\">\n",
              "    <button class=\"colab-df-convert\" onclick=\"convertToInteractive('df-5929f87d-ca78-4be7-8141-efca1917219b')\"\n",
              "            title=\"Convert this dataframe to an interactive table.\"\n",
              "            style=\"display:none;\">\n",
              "\n",
              "  <svg xmlns=\"http://www.w3.org/2000/svg\" height=\"24px\" viewBox=\"0 -960 960 960\">\n",
              "    <path d=\"M120-120v-720h720v720H120Zm60-500h600v-160H180v160Zm220 220h160v-160H400v160Zm0 220h160v-160H400v160ZM180-400h160v-160H180v160Zm440 0h160v-160H620v160ZM180-180h160v-160H180v160Zm440 0h160v-160H620v160Z\"/>\n",
              "  </svg>\n",
              "    </button>\n",
              "\n",
              "  <style>\n",
              "    .colab-df-container {\n",
              "      display:flex;\n",
              "      gap: 12px;\n",
              "    }\n",
              "\n",
              "    .colab-df-convert {\n",
              "      background-color: #E8F0FE;\n",
              "      border: none;\n",
              "      border-radius: 50%;\n",
              "      cursor: pointer;\n",
              "      display: none;\n",
              "      fill: #1967D2;\n",
              "      height: 32px;\n",
              "      padding: 0 0 0 0;\n",
              "      width: 32px;\n",
              "    }\n",
              "\n",
              "    .colab-df-convert:hover {\n",
              "      background-color: #E2EBFA;\n",
              "      box-shadow: 0px 1px 2px rgba(60, 64, 67, 0.3), 0px 1px 3px 1px rgba(60, 64, 67, 0.15);\n",
              "      fill: #174EA6;\n",
              "    }\n",
              "\n",
              "    .colab-df-buttons div {\n",
              "      margin-bottom: 4px;\n",
              "    }\n",
              "\n",
              "    [theme=dark] .colab-df-convert {\n",
              "      background-color: #3B4455;\n",
              "      fill: #D2E3FC;\n",
              "    }\n",
              "\n",
              "    [theme=dark] .colab-df-convert:hover {\n",
              "      background-color: #434B5C;\n",
              "      box-shadow: 0px 1px 3px 1px rgba(0, 0, 0, 0.15);\n",
              "      filter: drop-shadow(0px 1px 2px rgba(0, 0, 0, 0.3));\n",
              "      fill: #FFFFFF;\n",
              "    }\n",
              "  </style>\n",
              "\n",
              "    <script>\n",
              "      const buttonEl =\n",
              "        document.querySelector('#df-5929f87d-ca78-4be7-8141-efca1917219b button.colab-df-convert');\n",
              "      buttonEl.style.display =\n",
              "        google.colab.kernel.accessAllowed ? 'block' : 'none';\n",
              "\n",
              "      async function convertToInteractive(key) {\n",
              "        const element = document.querySelector('#df-5929f87d-ca78-4be7-8141-efca1917219b');\n",
              "        const dataTable =\n",
              "          await google.colab.kernel.invokeFunction('convertToInteractive',\n",
              "                                                    [key], {});\n",
              "        if (!dataTable) return;\n",
              "\n",
              "        const docLinkHtml = 'Like what you see? Visit the ' +\n",
              "          '<a target=\"_blank\" href=https://colab.research.google.com/notebooks/data_table.ipynb>data table notebook</a>'\n",
              "          + ' to learn more about interactive tables.';\n",
              "        element.innerHTML = '';\n",
              "        dataTable['output_type'] = 'display_data';\n",
              "        await google.colab.output.renderOutput(dataTable, element);\n",
              "        const docLink = document.createElement('div');\n",
              "        docLink.innerHTML = docLinkHtml;\n",
              "        element.appendChild(docLink);\n",
              "      }\n",
              "    </script>\n",
              "  </div>\n",
              "\n",
              "\n",
              "<div id=\"df-6189b3aa-66d3-4063-ad88-14666a436ee0\">\n",
              "  <button class=\"colab-df-quickchart\" onclick=\"quickchart('df-6189b3aa-66d3-4063-ad88-14666a436ee0')\"\n",
              "            title=\"Suggest charts\"\n",
              "            style=\"display:none;\">\n",
              "\n",
              "<svg xmlns=\"http://www.w3.org/2000/svg\" height=\"24px\"viewBox=\"0 0 24 24\"\n",
              "     width=\"24px\">\n",
              "    <g>\n",
              "        <path d=\"M19 3H5c-1.1 0-2 .9-2 2v14c0 1.1.9 2 2 2h14c1.1 0 2-.9 2-2V5c0-1.1-.9-2-2-2zM9 17H7v-7h2v7zm4 0h-2V7h2v10zm4 0h-2v-4h2v4z\"/>\n",
              "    </g>\n",
              "</svg>\n",
              "  </button>\n",
              "\n",
              "<style>\n",
              "  .colab-df-quickchart {\n",
              "      --bg-color: #E8F0FE;\n",
              "      --fill-color: #1967D2;\n",
              "      --hover-bg-color: #E2EBFA;\n",
              "      --hover-fill-color: #174EA6;\n",
              "      --disabled-fill-color: #AAA;\n",
              "      --disabled-bg-color: #DDD;\n",
              "  }\n",
              "\n",
              "  [theme=dark] .colab-df-quickchart {\n",
              "      --bg-color: #3B4455;\n",
              "      --fill-color: #D2E3FC;\n",
              "      --hover-bg-color: #434B5C;\n",
              "      --hover-fill-color: #FFFFFF;\n",
              "      --disabled-bg-color: #3B4455;\n",
              "      --disabled-fill-color: #666;\n",
              "  }\n",
              "\n",
              "  .colab-df-quickchart {\n",
              "    background-color: var(--bg-color);\n",
              "    border: none;\n",
              "    border-radius: 50%;\n",
              "    cursor: pointer;\n",
              "    display: none;\n",
              "    fill: var(--fill-color);\n",
              "    height: 32px;\n",
              "    padding: 0;\n",
              "    width: 32px;\n",
              "  }\n",
              "\n",
              "  .colab-df-quickchart:hover {\n",
              "    background-color: var(--hover-bg-color);\n",
              "    box-shadow: 0 1px 2px rgba(60, 64, 67, 0.3), 0 1px 3px 1px rgba(60, 64, 67, 0.15);\n",
              "    fill: var(--button-hover-fill-color);\n",
              "  }\n",
              "\n",
              "  .colab-df-quickchart-complete:disabled,\n",
              "  .colab-df-quickchart-complete:disabled:hover {\n",
              "    background-color: var(--disabled-bg-color);\n",
              "    fill: var(--disabled-fill-color);\n",
              "    box-shadow: none;\n",
              "  }\n",
              "\n",
              "  .colab-df-spinner {\n",
              "    border: 2px solid var(--fill-color);\n",
              "    border-color: transparent;\n",
              "    border-bottom-color: var(--fill-color);\n",
              "    animation:\n",
              "      spin 1s steps(1) infinite;\n",
              "  }\n",
              "\n",
              "  @keyframes spin {\n",
              "    0% {\n",
              "      border-color: transparent;\n",
              "      border-bottom-color: var(--fill-color);\n",
              "      border-left-color: var(--fill-color);\n",
              "    }\n",
              "    20% {\n",
              "      border-color: transparent;\n",
              "      border-left-color: var(--fill-color);\n",
              "      border-top-color: var(--fill-color);\n",
              "    }\n",
              "    30% {\n",
              "      border-color: transparent;\n",
              "      border-left-color: var(--fill-color);\n",
              "      border-top-color: var(--fill-color);\n",
              "      border-right-color: var(--fill-color);\n",
              "    }\n",
              "    40% {\n",
              "      border-color: transparent;\n",
              "      border-right-color: var(--fill-color);\n",
              "      border-top-color: var(--fill-color);\n",
              "    }\n",
              "    60% {\n",
              "      border-color: transparent;\n",
              "      border-right-color: var(--fill-color);\n",
              "    }\n",
              "    80% {\n",
              "      border-color: transparent;\n",
              "      border-right-color: var(--fill-color);\n",
              "      border-bottom-color: var(--fill-color);\n",
              "    }\n",
              "    90% {\n",
              "      border-color: transparent;\n",
              "      border-bottom-color: var(--fill-color);\n",
              "    }\n",
              "  }\n",
              "</style>\n",
              "\n",
              "  <script>\n",
              "    async function quickchart(key) {\n",
              "      const quickchartButtonEl =\n",
              "        document.querySelector('#' + key + ' button');\n",
              "      quickchartButtonEl.disabled = true;  // To prevent multiple clicks.\n",
              "      quickchartButtonEl.classList.add('colab-df-spinner');\n",
              "      try {\n",
              "        const charts = await google.colab.kernel.invokeFunction(\n",
              "            'suggestCharts', [key], {});\n",
              "      } catch (error) {\n",
              "        console.error('Error during call to suggestCharts:', error);\n",
              "      }\n",
              "      quickchartButtonEl.classList.remove('colab-df-spinner');\n",
              "      quickchartButtonEl.classList.add('colab-df-quickchart-complete');\n",
              "    }\n",
              "    (() => {\n",
              "      let quickchartButtonEl =\n",
              "        document.querySelector('#df-6189b3aa-66d3-4063-ad88-14666a436ee0 button');\n",
              "      quickchartButtonEl.style.display =\n",
              "        google.colab.kernel.accessAllowed ? 'block' : 'none';\n",
              "    })();\n",
              "  </script>\n",
              "</div>\n",
              "\n",
              "    </div>\n",
              "  </div>\n"
            ],
            "application/vnd.google.colaboratory.intrinsic+json": {
              "type": "dataframe",
              "variable_name": "df"
            }
          },
          "metadata": {},
          "execution_count": 16
        }
      ]
    },
    {
      "cell_type": "code",
      "source": [
        "df.drop(columns = ['id','Unnamed: 32'],inplace = True)"
      ],
      "metadata": {
        "id": "YtoggNoa-ZL8"
      },
      "execution_count": null,
      "outputs": []
    },
    {
      "cell_type": "code",
      "source": [
        "df.head()\n",
        "df.columns\n",
        "df.shape"
      ],
      "metadata": {
        "colab": {
          "base_uri": "https://localhost:8080/"
        },
        "id": "fos-Dkl2-izR",
        "outputId": "59cf6834-6579-4d76-ffc7-582aec822c3b"
      },
      "execution_count": null,
      "outputs": [
        {
          "output_type": "execute_result",
          "data": {
            "text/plain": [
              "(569, 31)"
            ]
          },
          "metadata": {},
          "execution_count": 18
        }
      ]
    },
    {
      "cell_type": "code",
      "source": [
        "X_train, X_test, y_train, y_test = train_test_split(df.iloc[:, 1:], df.iloc[:, 0], test_size=0.2)"
      ],
      "metadata": {
        "id": "rMX3fS-xUjDp"
      },
      "execution_count": null,
      "outputs": []
    },
    {
      "cell_type": "code",
      "source": [
        "scaler = StandardScaler()\n",
        "X_train = scaler.fit_transform(X_train)\n",
        "X_test = scaler.transform(X_test)"
      ],
      "metadata": {
        "id": "md-aGrhy-xop"
      },
      "execution_count": null,
      "outputs": []
    },
    {
      "cell_type": "code",
      "source": [
        "X_train"
      ],
      "metadata": {
        "colab": {
          "base_uri": "https://localhost:8080/"
        },
        "id": "mEqUiQ9x-1QP",
        "outputId": "4ab76431-50e5-43db-da61-50b1054f1135"
      },
      "execution_count": null,
      "outputs": [
        {
          "output_type": "execute_result",
          "data": {
            "text/plain": [
              "array([[-0.68639776, -0.63812308, -0.55790173, ...,  1.12348445,\n",
              "         4.70366576,  1.05950995],\n",
              "       [-0.56672648,  0.17776027, -0.53808794, ..., -0.51517199,\n",
              "        -0.31859479,  0.24942786],\n",
              "       [-0.26754828, -1.06728716, -0.32054896, ..., -0.21698058,\n",
              "        -1.43610921, -1.21049423],\n",
              "       ...,\n",
              "       [-0.73768545, -0.26083598, -0.66563926, ...,  0.42687704,\n",
              "        -0.39888541,  0.48840485],\n",
              "       [-0.61231554, -1.54361212, -0.64665104, ..., -0.68009263,\n",
              "        -0.6381187 , -0.27232933],\n",
              "       [ 1.82100046,  2.36838348,  1.96464233, ...,  2.34138381,\n",
              "         1.93937423,  2.223899  ]])"
            ]
          },
          "metadata": {},
          "execution_count": 21
        }
      ]
    },
    {
      "cell_type": "code",
      "source": [
        "y_train.value_counts()"
      ],
      "metadata": {
        "colab": {
          "base_uri": "https://localhost:8080/",
          "height": 178
        },
        "id": "a0yrN-nQ-8fi",
        "outputId": "1a8be211-e8b0-4fb7-aa8d-039294ab5b7c"
      },
      "execution_count": null,
      "outputs": [
        {
          "output_type": "execute_result",
          "data": {
            "text/plain": [
              "diagnosis\n",
              "B    284\n",
              "M    171\n",
              "Name: count, dtype: int64"
            ],
            "text/html": [
              "<div>\n",
              "<style scoped>\n",
              "    .dataframe tbody tr th:only-of-type {\n",
              "        vertical-align: middle;\n",
              "    }\n",
              "\n",
              "    .dataframe tbody tr th {\n",
              "        vertical-align: top;\n",
              "    }\n",
              "\n",
              "    .dataframe thead th {\n",
              "        text-align: right;\n",
              "    }\n",
              "</style>\n",
              "<table border=\"1\" class=\"dataframe\">\n",
              "  <thead>\n",
              "    <tr style=\"text-align: right;\">\n",
              "      <th></th>\n",
              "      <th>count</th>\n",
              "    </tr>\n",
              "    <tr>\n",
              "      <th>diagnosis</th>\n",
              "      <th></th>\n",
              "    </tr>\n",
              "  </thead>\n",
              "  <tbody>\n",
              "    <tr>\n",
              "      <th>B</th>\n",
              "      <td>284</td>\n",
              "    </tr>\n",
              "    <tr>\n",
              "      <th>M</th>\n",
              "      <td>171</td>\n",
              "    </tr>\n",
              "  </tbody>\n",
              "</table>\n",
              "</div><br><label><b>dtype:</b> int64</label>"
            ]
          },
          "metadata": {},
          "execution_count": 22
        }
      ]
    },
    {
      "cell_type": "code",
      "source": [
        "encoder = LabelEncoder()\n",
        "y_train = encoder.fit_transform(y_train)\n",
        "y_test = encoder.transform(y_test)"
      ],
      "metadata": {
        "id": "uVzmpms8_B8V"
      },
      "execution_count": null,
      "outputs": []
    },
    {
      "cell_type": "markdown",
      "source": [
        "numpy array to tensor"
      ],
      "metadata": {
        "id": "4ZNSDIcM_Kdc"
      }
    },
    {
      "cell_type": "code",
      "source": [
        "X_train_tensor = torch.from_numpy(X_train)\n",
        "X_test_tensor = torch.from_numpy(X_test)\n",
        "y_train_tensor = torch.from_numpy(y_train)\n",
        "y_test_tensor = torch.from_numpy(y_test)"
      ],
      "metadata": {
        "id": "tEx6na9T_J0c"
      },
      "execution_count": null,
      "outputs": []
    },
    {
      "cell_type": "code",
      "source": [
        "X_train_tensor[0]"
      ],
      "metadata": {
        "colab": {
          "base_uri": "https://localhost:8080/"
        },
        "id": "m2dXajoC_Nr7",
        "outputId": "436a3c1a-da02-4101-8425-adcef8c91404"
      },
      "execution_count": null,
      "outputs": [
        {
          "output_type": "execute_result",
          "data": {
            "text/plain": [
              "tensor([-0.6864, -0.6381, -0.5579, -0.6565,  0.9178,  1.2933,  0.9887,  0.6441,\n",
              "         3.1782,  1.6347, -0.3062,  0.3812, -0.2930, -0.3591, -0.5224,  0.6644,\n",
              "         0.5740,  1.1157,  4.3252,  0.3791, -0.5449,  0.1143, -0.4750, -0.5266,\n",
              "         0.2843,  1.0396,  0.8757,  1.1235,  4.7037,  1.0595],\n",
              "       dtype=torch.float64)"
            ]
          },
          "metadata": {},
          "execution_count": 73
        }
      ]
    },
    {
      "cell_type": "markdown",
      "source": [
        "Creating a simple nn"
      ],
      "metadata": {
        "id": "4AsHPMyb_8FC"
      }
    },
    {
      "cell_type": "code",
      "source": [
        "class piddu_nn():\n",
        "  def __init__(self,x):\n",
        "\n",
        "    self.weights = torch.rand(x.shape[1],1, dtype=torch.float64 , requires_grad=True)\n",
        "    self.bias = torch.zeros(1,dtype = torch.float64, requires_grad = True)\n",
        "\n",
        "\n",
        "  def forward(self,x):\n",
        "\n",
        "    z = torch.matmul(x, self.weights) + self.bias # 569x32 multiplied with  32x1\n",
        "    self.debug = z\n",
        "    result = torch.sigmoid(z)\n",
        "\n",
        "    return result\n",
        "\n",
        "  def loss_function(self, y_pred, y):\n",
        "    # Clamp predictions to avoid log(0)\n",
        "    epsilon = 1e-7\n",
        "    y_pred = torch.clamp(y_pred, epsilon, 1 - epsilon)\n",
        "\n",
        "    # Calculate loss\n",
        "    loss = -(y_train_tensor * torch.log(y_pred) + (1 - y_train_tensor) * torch.log(1 - y_pred)).mean()\n",
        "    # print(loss)\n",
        "    return loss\n",
        "\n"
      ],
      "metadata": {
        "id": "4gOgcoL6_7hw"
      },
      "execution_count": null,
      "outputs": []
    },
    {
      "cell_type": "code",
      "source": [
        "learning_rate = .01\n",
        "epochs = 20\n"
      ],
      "metadata": {
        "id": "-fkeCx_1ArZ3"
      },
      "execution_count": null,
      "outputs": []
    },
    {
      "cell_type": "code",
      "source": [
        "model = piddu_nn(X_train_tensor)\n",
        "# model.weights\n",
        "\n",
        "# model.bias"
      ],
      "metadata": {
        "collapsed": true,
        "id": "NUwUtXQbB4-o"
      },
      "execution_count": null,
      "outputs": []
    },
    {
      "cell_type": "markdown",
      "source": [
        "Training pipeline"
      ],
      "metadata": {
        "id": "t6ohpsTNBB6R"
      }
    },
    {
      "cell_type": "code",
      "source": [
        "\n",
        "# loop\n",
        "for i in range(0,epochs):\n",
        "# forward pass that is applying wx+b and calculating sigmoid\n",
        "  y_pred = model.forward(X_train_tensor)\n",
        "  # model.looking()\n",
        "\n",
        "  # print(y_pred)\n",
        "# loss calculate\n",
        "  loss = model.loss_function(y_pred,y_train_tensor)\n",
        "  print(loss.item())\n",
        "\n",
        "# backpropagate or gradient calculate\n",
        "  loss.backward()\n",
        "\n",
        "# update weights and bias\n",
        "  with torch.no_grad():  # for these process do not track the gradients\n",
        "    model.weights-= learning_rate* model.weights.grad\n",
        "    model.bias -= learning_rate* model.bias.grad\n",
        "\n",
        "# reseting the gradients\n",
        "  model.weights.grad.zero_()\n",
        "  model.bias.grad.zero_()\n",
        "\n",
        "  print(f'Epoch {i+1} : loss is {loss.item()}')\n",
        "\n"
      ],
      "metadata": {
        "colab": {
          "base_uri": "https://localhost:8080/"
        },
        "collapsed": true,
        "id": "QLydnhfsA-cd",
        "outputId": "2ded3e74-a3d5-4ab7-efa6-14814e8e61f7"
      },
      "execution_count": null,
      "outputs": [
        {
          "output_type": "stream",
          "name": "stdout",
          "text": [
            "3.3910945963170898\n",
            "Epoch 1 : loss is 3.3910945963170898\n",
            "3.3763316210657215\n",
            "Epoch 2 : loss is 3.3763316210657215\n",
            "3.361466629875084\n",
            "Epoch 3 : loss is 3.361466629875084\n",
            "3.346601093309539\n",
            "Epoch 4 : loss is 3.346601093309539\n",
            "3.3314710729935473\n",
            "Epoch 5 : loss is 3.3314710729935473\n",
            "3.3163584796973886\n",
            "Epoch 6 : loss is 3.3163584796973886\n",
            "3.3012634961464706\n",
            "Epoch 7 : loss is 3.3012634961464706\n",
            "3.28618630969259\n",
            "Epoch 8 : loss is 3.28618630969259\n",
            "3.271127112437597\n",
            "Epoch 9 : loss is 3.271127112437597\n",
            "3.2560190489785343\n",
            "Epoch 10 : loss is 3.2560190489785343\n",
            "3.2407562054111447\n",
            "Epoch 11 : loss is 3.2407562054111447\n",
            "3.2254479954602173\n",
            "Epoch 12 : loss is 3.2254479954602173\n",
            "3.209986984200836\n",
            "Epoch 13 : loss is 3.209986984200836\n",
            "3.194330637553164\n",
            "Epoch 14 : loss is 3.194330637553164\n",
            "3.178694132490937\n",
            "Epoch 15 : loss is 3.178694132490937\n",
            "3.1630777118308555\n",
            "Epoch 16 : loss is 3.1630777118308555\n",
            "3.1474400874033046\n",
            "Epoch 17 : loss is 3.1474400874033046\n",
            "3.1316122742995836\n",
            "Epoch 18 : loss is 3.1316122742995836\n",
            "3.115805584482506\n",
            "Epoch 19 : loss is 3.115805584482506\n",
            "3.1000202920388764\n",
            "Epoch 20 : loss is 3.1000202920388764\n"
          ]
        }
      ]
    },
    {
      "cell_type": "markdown",
      "source": [
        "NN module and optim module\n",
        "- NN module: providing inbuilt classes and functions, prebuilt layers, loss functions, utility functions\n",
        "- nn.layer, nn.conv2d, nn.lstm\n",
        "- relu, sigmoid, tanh, crossentropy loss, log loss etc.\n",
        "- Regularization, dropout layers\n",
        "\n"
      ],
      "metadata": {
        "id": "50KkHedkaAO7"
      }
    },
    {
      "cell_type": "code",
      "source": [
        "# create model class\n",
        "# our model has 5 inputs and one output\n",
        "import torch\n",
        "import torch.nn as nn\n",
        "\n",
        "class model_with_nn(nn.Module):\n",
        "\n",
        "  def __init__(self, num_features):\n",
        "    super().__init__()\n",
        "\n",
        "    self.linear = nn.Linear(num_features,1)\n",
        "    self.sigmoid = nn.Sigmoid()\n",
        "\n",
        "\n",
        "  def forward(self, features):\n",
        "\n",
        "    out = self.linear(features) # wx+b\n",
        "    out = self.sigmoid(out) # calculating sigmoid with the output of wx+b\n",
        "\n",
        "    return out\n",
        "\n",
        "\n"
      ],
      "metadata": {
        "id": "DmhVFgE6ahwh"
      },
      "execution_count": null,
      "outputs": []
    },
    {
      "cell_type": "code",
      "source": [
        "# creating dataset\n",
        "features = torch.rand(10,5)\n",
        "\n",
        "\n",
        "# create model\n",
        "model = model_with_nn(features.shape[1]) # number of columns\n",
        "\n",
        "# calling forward\n",
        "model(features) # this will trigger forward method\n",
        "print(features)\n"
      ],
      "metadata": {
        "colab": {
          "base_uri": "https://localhost:8080/"
        },
        "id": "wnODucKdbwJW",
        "outputId": "2e32770f-0d98-4f5a-fdd1-988e3c2827ea"
      },
      "execution_count": null,
      "outputs": [
        {
          "output_type": "stream",
          "name": "stdout",
          "text": [
            "tensor([[0.1948, 0.9527, 0.0272, 0.4879, 0.8416],\n",
            "        [0.2895, 0.2692, 0.2494, 0.7930, 0.7039],\n",
            "        [0.3603, 0.6126, 0.6812, 0.5227, 0.4452],\n",
            "        [0.6456, 0.5834, 0.9215, 0.3693, 0.1878],\n",
            "        [0.0697, 0.3487, 0.6663, 0.5250, 0.3059],\n",
            "        [0.8611, 0.3431, 0.3351, 0.7244, 0.2103],\n",
            "        [0.7995, 0.4815, 0.1015, 0.9596, 0.3309],\n",
            "        [0.7807, 0.3735, 0.0028, 0.0709, 0.5361],\n",
            "        [0.1496, 0.6671, 0.6936, 0.4555, 0.2381],\n",
            "        [0.9557, 0.0130, 0.7491, 0.2646, 0.1763]])\n"
          ]
        }
      ]
    },
    {
      "cell_type": "code",
      "source": [
        "model.linear.weight\n",
        "model.linear.bias\n"
      ],
      "metadata": {
        "colab": {
          "base_uri": "https://localhost:8080/"
        },
        "id": "86nrHcVXcLK8",
        "outputId": "c9ffa752-3af5-431e-a912-84952911c875"
      },
      "execution_count": null,
      "outputs": [
        {
          "output_type": "execute_result",
          "data": {
            "text/plain": [
              "Parameter containing:\n",
              "tensor([-0.0505], requires_grad=True)"
            ]
          },
          "metadata": {},
          "execution_count": 40
        }
      ]
    },
    {
      "cell_type": "code",
      "source": [
        "!pip install torchinfo"
      ],
      "metadata": {
        "id": "xiTIeSSGcqz6"
      },
      "execution_count": null,
      "outputs": []
    },
    {
      "cell_type": "code",
      "source": [
        "\n",
        "from torchinfo import summary\n",
        "\n",
        "summary(model,input_size = (10,5))"
      ],
      "metadata": {
        "colab": {
          "base_uri": "https://localhost:8080/"
        },
        "id": "LvKYFKKjcX1M",
        "outputId": "c06ada08-76fe-4905-b707-8fbf4241cc98"
      },
      "execution_count": null,
      "outputs": [
        {
          "output_type": "execute_result",
          "data": {
            "text/plain": [
              "==========================================================================================\n",
              "Layer (type:depth-idx)                   Output Shape              Param #\n",
              "==========================================================================================\n",
              "model_with_nn                            [10, 1]                   --\n",
              "├─Linear: 1-1                            [10, 1]                   6\n",
              "├─Sigmoid: 1-2                           [10, 1]                   --\n",
              "==========================================================================================\n",
              "Total params: 6\n",
              "Trainable params: 6\n",
              "Non-trainable params: 0\n",
              "Total mult-adds (Units.MEGABYTES): 0.00\n",
              "==========================================================================================\n",
              "Input size (MB): 0.00\n",
              "Forward/backward pass size (MB): 0.00\n",
              "Params size (MB): 0.00\n",
              "Estimated Total Size (MB): 0.00\n",
              "=========================================================================================="
            ]
          },
          "metadata": {},
          "execution_count": 46
        }
      ]
    },
    {
      "cell_type": "markdown",
      "source": [
        "Creating a hidden layer\n",
        "5 input 3 hidden and one ouput\n",
        "- total weights 5x3 + 3x1 = 18\n",
        "- total biases 3+1 = 4"
      ],
      "metadata": {
        "id": "ROfhD0bqc70B"
      }
    },
    {
      "cell_type": "code",
      "source": [
        "import torch\n",
        "import torch.nn as nn\n",
        "\n",
        "class model_with_nn(nn.Module):\n",
        "\n",
        "  def __init__(self, num_features):\n",
        "    super().__init__()\n",
        "\n",
        "    self.linear1 = nn.Linear(num_features,3) # 5 inputs 3 outputs for input layer\n",
        "    self.relu = nn.ReLU()\n",
        "    self.linear2 = nn.Linear(3,1) # for hidden layer 3 inputs 1 output\n",
        "    self.sigmoid = nn.Sigmoid()\n",
        "\n",
        "\n",
        "  def forward(self, features):\n",
        "\n",
        "    out = self.linear1(features) # wx+b\n",
        "    out = self.relu(out) # calculating sigmoid with the output of wx+b\n",
        "    out = self.linear2(out)\n",
        "    out  = self.sigmoid(out)\n",
        "\n",
        "    return out\n"
      ],
      "metadata": {
        "id": "km1P7QaLc647"
      },
      "execution_count": null,
      "outputs": []
    },
    {
      "cell_type": "code",
      "source": [
        "# create model\n",
        "model = model_with_nn(features.shape[1]) # number of columns\n",
        "\n",
        "# calling forward\n",
        "model(features) # this will trigger forward method\n",
        "print(features)\n",
        "\n"
      ],
      "metadata": {
        "colab": {
          "base_uri": "https://localhost:8080/"
        },
        "id": "4-a3C5q-hRTf",
        "outputId": "c3b0aac2-716f-4924-8167-90347a1f025b"
      },
      "execution_count": null,
      "outputs": [
        {
          "output_type": "stream",
          "name": "stdout",
          "text": [
            "tensor([[0.1948, 0.9527, 0.0272, 0.4879, 0.8416],\n",
            "        [0.2895, 0.2692, 0.2494, 0.7930, 0.7039],\n",
            "        [0.3603, 0.6126, 0.6812, 0.5227, 0.4452],\n",
            "        [0.6456, 0.5834, 0.9215, 0.3693, 0.1878],\n",
            "        [0.0697, 0.3487, 0.6663, 0.5250, 0.3059],\n",
            "        [0.8611, 0.3431, 0.3351, 0.7244, 0.2103],\n",
            "        [0.7995, 0.4815, 0.1015, 0.9596, 0.3309],\n",
            "        [0.7807, 0.3735, 0.0028, 0.0709, 0.5361],\n",
            "        [0.1496, 0.6671, 0.6936, 0.4555, 0.2381],\n",
            "        [0.9557, 0.0130, 0.7491, 0.2646, 0.1763]])\n"
          ]
        }
      ]
    },
    {
      "cell_type": "code",
      "source": [
        "model.network[0].weight # 3x5\n",
        "# model.linear2.weight"
      ],
      "metadata": {
        "colab": {
          "base_uri": "https://localhost:8080/"
        },
        "id": "pk6qOIo7hYIu",
        "outputId": "46827f87-bbd8-43ae-f08a-60c10836e5a7"
      },
      "execution_count": null,
      "outputs": [
        {
          "output_type": "execute_result",
          "data": {
            "text/plain": [
              "Parameter containing:\n",
              "tensor([[ 0.3527,  0.0256, -0.2324, -0.0923,  0.3415],\n",
              "        [ 0.1381,  0.0168, -0.1344, -0.3944, -0.1719],\n",
              "        [-0.0126,  0.0873, -0.2368, -0.2654, -0.4260]], requires_grad=True)"
            ]
          },
          "metadata": {},
          "execution_count": 64
        }
      ]
    },
    {
      "cell_type": "code",
      "source": [
        "import torch\n",
        "import torch.nn as nn\n",
        "\n",
        "class model_with_nn(nn.Module):\n",
        "\n",
        "  def __init__(self, num_features):\n",
        "    super().__init__()\n",
        "    self.network = nn.Sequential( nn.Linear(num_features,3) ,# 5 inputs 3 outputs for input layer\n",
        "    nn.ReLU(),\n",
        "    nn.Linear(3,1), # for hidden layer 3 inputs 1 output\n",
        "    nn.Sigmoid()) # sequential container\n",
        "\n",
        "\n",
        "\n",
        "  def forward(self, features):\n",
        "\n",
        "    out =  self.network(features)\n",
        "\n",
        "    return out"
      ],
      "metadata": {
        "id": "N_VIZ_YuhlX4"
      },
      "execution_count": null,
      "outputs": []
    },
    {
      "cell_type": "markdown",
      "source": [
        "Improvements in mysimplenn"
      ],
      "metadata": {
        "id": "bzG8jjkmvqeO"
      }
    },
    {
      "cell_type": "code",
      "source": [
        "\n",
        "class MySimpleNN(nn.Module):\n",
        "\n",
        "  def __init__(self, num_features):\n",
        "\n",
        "    super().__init__()\n",
        "    self.linear = nn.Linear(num_features, 1)\n",
        "    self.sigmoid = nn.Sigmoid()\n",
        "\n",
        "  def forward(self, features):\n",
        "\n",
        "    out = self.linear(features)\n",
        "    out = self.sigmoid(out)\n",
        "\n",
        "    return out"
      ],
      "metadata": {
        "id": "IiMmc0wbvpgO"
      },
      "execution_count": null,
      "outputs": []
    },
    {
      "cell_type": "code",
      "source": [
        "loss_function = nn.BCELoss()"
      ],
      "metadata": {
        "id": "qjqh9Cr8xVwj"
      },
      "execution_count": null,
      "outputs": []
    },
    {
      "cell_type": "code",
      "source": [
        "y_train_tensor = y_train_tensor.double()\n",
        "y_train_tensor.dtype\n",
        "# y_pred.dtype"
      ],
      "metadata": {
        "colab": {
          "base_uri": "https://localhost:8080/"
        },
        "id": "1Iq4CZJkyEkV",
        "outputId": "4cd888f3-20f9-4994-d47a-f7c0b7b93b11"
      },
      "execution_count": null,
      "outputs": [
        {
          "output_type": "execute_result",
          "data": {
            "text/plain": [
              "torch.float64"
            ]
          },
          "metadata": {},
          "execution_count": 84
        }
      ]
    },
    {
      "cell_type": "code",
      "source": [
        "model = MySimpleNN(X_test_tensor.shape[1])\n",
        "model = model.double() # converting every weight and bias to double\n",
        "\n",
        "optimizer = torch.optim.SGD(model.parameters(), lr=learning_rate)\n",
        "\n",
        "# loop\n",
        "y_train_tensor = y_train_tensor.double()\n",
        "for i in range(0,epochs):\n",
        "# forward pass that is applying wx+b and calculating sigmoid\n",
        "  y_pred = model.forward(X_train_tensor)\n",
        "  # model.looking()\n",
        "\n",
        "  # print(y_pred)\n",
        "# loss calculate\n",
        "\n",
        "  loss = loss_function(y_pred,y_train_tensor.view(-1,1))\n",
        "  print(loss.item())\n",
        "\n",
        "# backpropagate or gradient calculate\n",
        "\n",
        "\n",
        "# update weights and bias\n",
        "  # with torch.no_grad():  # for these process do not track the gradients\n",
        "  #   model.linear.weight-= learning_rate* model.linear.weight.grad\n",
        "  #   model.linear.bias -= learning_rate* model.linear.bias.grad\n",
        "  optimizer.step()\n",
        "  loss.backward()\n",
        "# reseting the gradients\n",
        "  # model.linear.weight.grad.zero_()\n",
        "  # model.linear.bias.grad.zero_()\n",
        "  optimizer.zero_grad()\n",
        "\n",
        "  print(f'Epoch {i+1} : loss is {loss.item()}')\n",
        "\n"
      ],
      "metadata": {
        "colab": {
          "base_uri": "https://localhost:8080/"
        },
        "collapsed": true,
        "id": "LK7q_OxRu72W",
        "outputId": "3c807fbe-ce59-4df7-8783-f85157a3c50f"
      },
      "execution_count": null,
      "outputs": [
        {
          "output_type": "stream",
          "name": "stdout",
          "text": [
            "0.6493206601209012\n",
            "Epoch 1 : loss is 0.6493206601209012\n",
            "0.6493206601209012\n",
            "Epoch 2 : loss is 0.6493206601209012\n",
            "0.6493206601209012\n",
            "Epoch 3 : loss is 0.6493206601209012\n",
            "0.6493206601209012\n",
            "Epoch 4 : loss is 0.6493206601209012\n",
            "0.6493206601209012\n",
            "Epoch 5 : loss is 0.6493206601209012\n",
            "0.6493206601209012\n",
            "Epoch 6 : loss is 0.6493206601209012\n",
            "0.6493206601209012\n",
            "Epoch 7 : loss is 0.6493206601209012\n",
            "0.6493206601209012\n",
            "Epoch 8 : loss is 0.6493206601209012\n",
            "0.6493206601209012\n",
            "Epoch 9 : loss is 0.6493206601209012\n",
            "0.6493206601209012\n",
            "Epoch 10 : loss is 0.6493206601209012\n",
            "0.6493206601209012\n",
            "Epoch 11 : loss is 0.6493206601209012\n",
            "0.6493206601209012\n",
            "Epoch 12 : loss is 0.6493206601209012\n",
            "0.6493206601209012\n",
            "Epoch 13 : loss is 0.6493206601209012\n",
            "0.6493206601209012\n",
            "Epoch 14 : loss is 0.6493206601209012\n",
            "0.6493206601209012\n",
            "Epoch 15 : loss is 0.6493206601209012\n",
            "0.6493206601209012\n",
            "Epoch 16 : loss is 0.6493206601209012\n",
            "0.6493206601209012\n",
            "Epoch 17 : loss is 0.6493206601209012\n",
            "0.6493206601209012\n",
            "Epoch 18 : loss is 0.6493206601209012\n",
            "0.6493206601209012\n",
            "Epoch 19 : loss is 0.6493206601209012\n",
            "0.6493206601209012\n",
            "Epoch 20 : loss is 0.6493206601209012\n"
          ]
        }
      ]
    },
    {
      "cell_type": "code",
      "source": [
        "# model evaluation\n",
        "with torch.no_grad():\n",
        "  y_pred = model.forward(X_test_tensor)\n",
        "  y_pred = (y_pred > 0.5).float()\n",
        "  accuracy = (y_pred == y_test_tensor).float().mean()\n",
        "  print(f'Accuracy: {accuracy.item()}')"
      ],
      "metadata": {
        "id": "qh8KDabizxpU",
        "outputId": "cd82cb8e-6685-4df1-bc1c-764e19f35d1b",
        "colab": {
          "base_uri": "https://localhost:8080/"
        }
      },
      "execution_count": null,
      "outputs": [
        {
          "output_type": "stream",
          "name": "stdout",
          "text": [
            "Accuracy: 0.5\n"
          ]
        }
      ]
    }
  ]
}